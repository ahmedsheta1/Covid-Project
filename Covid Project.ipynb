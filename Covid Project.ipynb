{
 "cells": [
  {
   "cell_type": "code",
   "execution_count": 130,
   "metadata": {},
   "outputs": [],
   "source": [
    "import numpy as np\n",
    "import matplotlib.pyplot as plt\n",
    "import os\n",
    "\n",
    "from matplotlib import rc\n",
    "rc('font',**{'family':'Times New Roman', 'size': 18})\n",
    "rc('text', usetex=True)\n",
    "rc('figure', figsize = (10,5))\n",
    "\n",
    "import cv2\n",
    "import csv\n",
    "from collections import OrderedDict \n",
    "\n",
    "from sklearn.svm import SVC\n",
    "from sklearn.metrics import accuracy_score, f1_score, precision_score, recall_score, classification_report, confusion_matrix\n",
    "from sklearn.model_selection import train_test_split \n",
    "\n",
    "from sklearn.preprocessing import StandardScaler\n",
    "from sklearn.decomposition import PCA\n",
    "\n",
    "from skimage.feature import hog\n",
    "from skimage import data, color, exposure"
   ]
  },
  {
   "cell_type": "code",
   "execution_count": 2,
   "metadata": {},
   "outputs": [],
   "source": [
    "\"\"\"\n",
    "a = cv2.imread(\"train/train/img-0.jpeg\", 0)\n",
    "a.shape\n",
    "plt.imshow(a, cmap='gray')\n",
    "\n",
    "#for i in range (img.shape[0]): \n",
    "            #for j in range (img.shape[1]):\n",
    "                #curr.append(img[i][j])\n",
    "\"\"\";"
   ]
  },
  {
   "cell_type": "code",
   "execution_count": 3,
   "metadata": {},
   "outputs": [],
   "source": [
    "label_dict = {'normal': 0, 'covid': 1, 'viral':2, 'bacterial':3}\n",
    "label_to_words = {0: 'normal', 1: 'covid', 2: 'viral', 3: 'bacterial'}"
   ]
  },
  {
   "cell_type": "code",
   "execution_count": 4,
   "metadata": {},
   "outputs": [],
   "source": [
    "def read_dir(dir_name):\n",
    "    #return a dictionary of raw array representations of the images, indexed by image number\n",
    "    rawdata = {}\n",
    "    for file in os.listdir(dir_name):\n",
    "        filename = dir_name + '/' + os.fsdecode(file)\n",
    "        img = cv2.imread(filename, 0) #0 indicates 1 channel - grayscale\n",
    "        \n",
    "        name = file\n",
    "        name = name.replace('img-', '')\n",
    "        name = name.replace('.jpeg', '')\n",
    "        #curr number\n",
    "        no = int(name)\n",
    "        rawdata[no] = img\n",
    "\n",
    "    return OrderedDict(sorted(rawdata.items())) #ordered data"
   ]
  },
  {
   "cell_type": "code",
   "execution_count": 5,
   "metadata": {},
   "outputs": [],
   "source": [
    "def read_labels(filename):\n",
    "    raw_csv = []\n",
    "    with open(filename, 'r') as csvfile:\n",
    "        reader = csv.reader(csvfile)\n",
    "        next(reader)\n",
    "        for rowdata in reader:\n",
    "            if any(x.strip() for x in rowdata):\n",
    "                raw_csv.append(rowdata)\n",
    "    \n",
    "    labels = {}\n",
    "    for i in range(len(raw_csv)):\n",
    "        curr = raw_csv[i]\n",
    "        ind = int(curr[0])\n",
    "        labels[ind] = label_dict[curr[2]]\n",
    "    \n",
    "    return labels"
   ]
  },
  {
   "cell_type": "code",
   "execution_count": 6,
   "metadata": {},
   "outputs": [],
   "source": [
    "def standardize(data, height, width):\n",
    "    #takes a dictionary of arrays, returns a dictionary of arrays, all with the same size\n",
    "    dim = (height, width)\n",
    "    new_data = {}\n",
    "    for i in range(len(data)):\n",
    "        img = data[i]\n",
    "        resized = cv2.resize(img, dim, interpolation = cv2.INTER_AREA)\n",
    "        new_data[i] = resized\n",
    "    \n",
    "    return new_data"
   ]
  },
  {
   "cell_type": "code",
   "execution_count": 7,
   "metadata": {},
   "outputs": [],
   "source": [
    "def flatten(data):\n",
    "    flattened_data = {}\n",
    "    for i in range(len(data)):\n",
    "        img = data[i]\n",
    "        height = img.shape[0]\n",
    "        width = img.shape[1]\n",
    "        \n",
    "        curr = np.zeros(height*width)\n",
    "        for h in range(height):\n",
    "            for w in range(width):\n",
    "                curr[h*width + w] = img[h][w]\n",
    "        \n",
    "        flattened_data[i] = curr\n",
    "    \n",
    "    return flattened_data"
   ]
  },
  {
   "cell_type": "code",
   "execution_count": 8,
   "metadata": {},
   "outputs": [],
   "source": [
    "def split(data, perc):\n",
    "    #split training data into train and test, for holdout validation\n",
    "    train_n = int(perc * len(data))\n",
    "    train = {}\n",
    "    test = {}\n",
    "    for i in range(len(data)):\n",
    "        if i <= train_n:\n",
    "            train[i] = data[i]\n",
    "        else:\n",
    "            test[i] = data[i]\n",
    "    \n",
    "    return train, test"
   ]
  },
  {
   "cell_type": "code",
   "execution_count": 9,
   "metadata": {},
   "outputs": [],
   "source": [
    "def makesubmission(no, results):\n",
    "    word_results = {}\n",
    "    for i in range(len(results)):\n",
    "        word_results[i] = label_to_words[results[i]]\n",
    "    with open('submission {x}.csv'.format(x = no), mode='w', newline='') as file:\n",
    "        writer = csv.writer(file, delimiter=',')\n",
    "\n",
    "        writer.writerow(['Id', 'label'])\n",
    "        for i in range(len(results)):\n",
    "            writer.writerow([i, word_results[i]])"
   ]
  },
  {
   "cell_type": "markdown",
   "metadata": {},
   "source": [
    "## Rudimentary standardization of data - simply flatten all images to lists of pixel values of the same size"
   ]
  },
  {
   "cell_type": "code",
   "execution_count": 10,
   "metadata": {},
   "outputs": [],
   "source": [
    "train_dir = 'train/train'\n",
    "raw_traindata = read_dir(train_dir)"
   ]
  },
  {
   "cell_type": "code",
   "execution_count": 11,
   "metadata": {},
   "outputs": [],
   "source": [
    "traindata = standardize(raw_traindata, 200, 200) #traindata is dict of 2d np array of same size, corresponding to images\n",
    "flat_traindata = flatten(traindata) #flat_traindata is dict of 1d lists"
   ]
  },
  {
   "cell_type": "code",
   "execution_count": 12,
   "metadata": {},
   "outputs": [],
   "source": [
    "filename = 'train.csv'\n",
    "train_labels = read_labels(filename)"
   ]
  },
  {
   "cell_type": "code",
   "execution_count": 13,
   "metadata": {},
   "outputs": [],
   "source": [
    "test_dir = 'test/test'\n",
    "raw_testdata = read_dir(test_dir)"
   ]
  },
  {
   "cell_type": "code",
   "execution_count": 14,
   "metadata": {},
   "outputs": [],
   "source": [
    "testdata = standardize(raw_testdata, 200, 200)\n",
    "flat_testdata = flatten(testdata)"
   ]
  },
  {
   "cell_type": "markdown",
   "metadata": {},
   "source": [
    "### Try perceptron without any kernelization"
   ]
  },
  {
   "cell_type": "code",
   "execution_count": 15,
   "metadata": {},
   "outputs": [],
   "source": [
    "def add_bias(data):\n",
    "    n = len(data)\n",
    "    bias = np.ones(1)\n",
    "    newdata = {}\n",
    "    for i in range(n):\n",
    "        newdata[i] = np.hstack((data[i], bias))\n",
    "    return newdata"
   ]
  },
  {
   "cell_type": "code",
   "execution_count": 16,
   "metadata": {},
   "outputs": [],
   "source": [
    "def updatew(w, x, y):\n",
    "    #for a single w vector. y is +1 or -1 for this specific label\n",
    "    corrected_pred = y*np.dot(w, x)\n",
    "    if corrected_pred <= 0:\n",
    "        return w + y*x\n",
    "    else:\n",
    "        return w"
   ]
  },
  {
   "cell_type": "code",
   "execution_count": 17,
   "metadata": {},
   "outputs": [],
   "source": [
    "def updatew_corona(w, x, y): #penalize false negatives on corona more\n",
    "    #add more weight to corona vector to maximize positive corona classification\n",
    "    pred = np.dot(w, x)\n",
    "    corrected_pred = y*pred\n",
    "    if pred <= 0: #if predicts -ve on corona\n",
    "        if (y == 1): #if actually has corona\n",
    "            return w + 4*x\n",
    "    \n",
    "    if corrected_pred <= 0:\n",
    "        return w + y*x\n",
    "    else:\n",
    "        return w"
   ]
  },
  {
   "cell_type": "code",
   "execution_count": 18,
   "metadata": {},
   "outputs": [],
   "source": [
    "def predict(ws, x):\n",
    "    #ws is list of 4 weights, and x is data point\n",
    "    amounts = np.zeros(4)\n",
    "    for i in range(len(ws)):\n",
    "        amounts[i] = np.dot(ws[i], x)\n",
    "    return np.argmax(amounts)"
   ]
  },
  {
   "cell_type": "code",
   "execution_count": 19,
   "metadata": {},
   "outputs": [],
   "source": [
    "def onevall_label(labels, label):\n",
    "    new_labels = {}\n",
    "    for i in labels:\n",
    "        if labels[i] != label:\n",
    "            new_labels[i] = -1\n",
    "        else:\n",
    "            new_labels[i] = 1\n",
    "    \n",
    "    return new_labels\n",
    "        "
   ]
  },
  {
   "cell_type": "code",
   "execution_count": 20,
   "metadata": {},
   "outputs": [],
   "source": [
    "def uw_perceptron(data, labels, iterations):\n",
    "    ws = []\n",
    "    for res in range(4):\n",
    "        w = np.zeros(len(data[0]))\n",
    "        new_labels = onevall_label(labels, res)\n",
    "        for i in range(iterations):\n",
    "            index = i % (len(data)-1) + 1\n",
    "            w = updatew(w, data[index], new_labels[index])\n",
    "        ws.append(w)\n",
    "    \n",
    "    return ws"
   ]
  },
  {
   "cell_type": "code",
   "execution_count": 21,
   "metadata": {},
   "outputs": [],
   "source": [
    "def w_perceptron(data, labels, iterations):\n",
    "    ws = []\n",
    "    for res in range(4):\n",
    "        w = np.zeros(len(data[0]))\n",
    "        new_labels = onevall_label(labels, res)\n",
    "        for i in range(iterations):\n",
    "            index = i % (len(data)-1) + 1\n",
    "            if res==1:\n",
    "                #corona\n",
    "                w = updatew_corona(w, data[index], new_labels[index])\n",
    "            else:\n",
    "                w = updatew(w, data[index], new_labels[index])\n",
    "        ws.append(w)\n",
    "    \n",
    "    return ws"
   ]
  },
  {
   "cell_type": "code",
   "execution_count": 22,
   "metadata": {},
   "outputs": [],
   "source": [
    "def predictall(ws, data):\n",
    "    results = {}\n",
    "    for key in data:\n",
    "        results[key] = predict(ws, data[key])\n",
    "    return results"
   ]
  },
  {
   "cell_type": "code",
   "execution_count": 23,
   "metadata": {},
   "outputs": [],
   "source": [
    "def uw_accuracy(results, labels):\n",
    "    #unweighted accuracy\n",
    "    sum = 0\n",
    "    for key in results:\n",
    "        if(results[key] == labels[key]):\n",
    "            sum += 1\n",
    "    \n",
    "    return sum / len(results)"
   ]
  },
  {
   "cell_type": "code",
   "execution_count": 24,
   "metadata": {},
   "outputs": [],
   "source": [
    "def w_accuracy(results, labels):\n",
    "    #weighted accuracy, with preferential treatment to +ve corona identification\n",
    "    corona_count = 0\n",
    "    noncorona_count = 0\n",
    "    corona_sum = 0\n",
    "    noncorona_sum = 0\n",
    "    \n",
    "    for i in results: #i is key\n",
    "        if(labels[i] == 1):\n",
    "            corona_count += 1\n",
    "            if (results[i] == 1):\n",
    "                corona_sum += 1\n",
    "        else:\n",
    "            noncorona_count += 1\n",
    "            if(results[i] == labels[i]):\n",
    "                noncorona_sum += 1\n",
    "    \n",
    "    return (noncorona_sum + 5*corona_sum)/(noncorona_count + 5*corona_count)"
   ]
  },
  {
   "cell_type": "code",
   "execution_count": 25,
   "metadata": {},
   "outputs": [],
   "source": [
    "perc_traindata = add_bias(flat_traindata)"
   ]
  },
  {
   "cell_type": "markdown",
   "metadata": {},
   "source": [
    "### Train unweighted perceptron"
   ]
  },
  {
   "cell_type": "code",
   "execution_count": 369,
   "metadata": {},
   "outputs": [],
   "source": [
    "train70, test30 = split(perc_traindata, 0.7)\n",
    "trainlabels70, testlabels30 = split(train_labels, 0.7)"
   ]
  },
  {
   "cell_type": "code",
   "execution_count": 524,
   "metadata": {},
   "outputs": [],
   "source": [
    "weights = uw_perceptron(train70, trainlabels70, 3500)\n",
    "res = predictall(weights, test30)\n",
    "#Problem1: Very dependent on no. of iterations\n",
    "#Problem2: Very few labeled as viral"
   ]
  },
  {
   "cell_type": "code",
   "execution_count": 525,
   "metadata": {},
   "outputs": [
    {
     "data": {
      "text/plain": [
       "0.6301775147928994"
      ]
     },
     "execution_count": 525,
     "metadata": {},
     "output_type": "execute_result"
    }
   ],
   "source": [
    "uw_accuracy(res, testlabels30)"
   ]
  },
  {
   "cell_type": "code",
   "execution_count": 526,
   "metadata": {},
   "outputs": [
    {
     "data": {
      "text/plain": [
       "0.6748878923766816"
      ]
     },
     "execution_count": 526,
     "metadata": {},
     "output_type": "execute_result"
    }
   ],
   "source": [
    "w_accuracy(res, tmp_testlabels)"
   ]
  },
  {
   "cell_type": "code",
   "execution_count": 527,
   "metadata": {},
   "outputs": [],
   "source": [
    "tmp_train, tmp_test = split(perc_traindata, 0.5)\n",
    "tmp_trainlabels, tmp_testlabels = split(train_labels, 0.5)\n",
    "\n",
    "weights = uw_perceptron(tmp_train, tmp_trainlabels, 2500)\n",
    "res = predictall(weights, tmp_test)"
   ]
  },
  {
   "cell_type": "code",
   "execution_count": 528,
   "metadata": {},
   "outputs": [
    {
     "data": {
      "text/plain": [
       "0.6039076376554174"
      ]
     },
     "execution_count": 528,
     "metadata": {},
     "output_type": "execute_result"
    }
   ],
   "source": [
    "uw_accuracy(res, tmp_testlabels)"
   ]
  },
  {
   "cell_type": "code",
   "execution_count": 540,
   "metadata": {},
   "outputs": [],
   "source": [
    "tmp_train, tmp_test = split(perc_traindata, 0.9)\n",
    "tmp_trainlabels, tmp_testlabels = split(train_labels, 0.9)\n",
    "\n",
    "weights = uw_perceptron(tmp_train, tmp_trainlabels, 5000)\n",
    "res = predictall(weights, tmp_test)"
   ]
  },
  {
   "cell_type": "code",
   "execution_count": 541,
   "metadata": {},
   "outputs": [
    {
     "data": {
      "text/plain": [
       "0.6517857142857143"
      ]
     },
     "execution_count": 541,
     "metadata": {},
     "output_type": "execute_result"
    }
   ],
   "source": [
    "uw_accuracy(res, tmp_testlabels)"
   ]
  },
  {
   "cell_type": "code",
   "execution_count": 542,
   "metadata": {},
   "outputs": [
    {
     "data": {
      "text/plain": [
       "0.7171052631578947"
      ]
     },
     "execution_count": 542,
     "metadata": {},
     "output_type": "execute_result"
    }
   ],
   "source": [
    "w_accuracy(res, tmp_testlabels)"
   ]
  },
  {
   "cell_type": "markdown",
   "metadata": {},
   "source": [
    "### UW Perceptron Submission"
   ]
  },
  {
   "cell_type": "code",
   "execution_count": 545,
   "metadata": {},
   "outputs": [],
   "source": [
    "perc_testdata = add_bias(flat_testdata)"
   ]
  },
  {
   "cell_type": "code",
   "execution_count": 546,
   "metadata": {},
   "outputs": [],
   "source": [
    "#perceptron trial, not weighted for corona\n",
    "weights = uw_perceptron(perc_traindata, train_labels, 5000)\n",
    "subm4 = predictall(weights, perc_testdata)"
   ]
  },
  {
   "cell_type": "code",
   "execution_count": 547,
   "metadata": {},
   "outputs": [],
   "source": [
    "makesubmission(4, subm4)"
   ]
  },
  {
   "cell_type": "markdown",
   "metadata": {},
   "source": [
    "### Train weighted Perceptron"
   ]
  },
  {
   "cell_type": "code",
   "execution_count": 599,
   "metadata": {},
   "outputs": [],
   "source": [
    "train70, test30 = split(perc_traindata, 0.7)\n",
    "trainlabels70, testlabels30 = split(train_labels, 0.7)\n",
    "\n",
    "weights = w_perceptron(train70, trainlabels70, 3400)\n",
    "res = predictall(weights, test30)"
   ]
  },
  {
   "cell_type": "code",
   "execution_count": 600,
   "metadata": {},
   "outputs": [
    {
     "data": {
      "text/plain": [
       "0.6538461538461539"
      ]
     },
     "execution_count": 600,
     "metadata": {},
     "output_type": "execute_result"
    }
   ],
   "source": [
    "uw_accuracy(res, testlabels30)"
   ]
  },
  {
   "cell_type": "code",
   "execution_count": 601,
   "metadata": {
    "scrolled": true
   },
   "outputs": [
    {
     "data": {
      "text/plain": [
       "0.7017937219730942"
      ]
     },
     "execution_count": 601,
     "metadata": {},
     "output_type": "execute_result"
    }
   ],
   "source": [
    "w_accuracy(res, testlabels30)"
   ]
  },
  {
   "cell_type": "code",
   "execution_count": 618,
   "metadata": {},
   "outputs": [],
   "source": [
    "train50, test50 = split(perc_traindata, 0.5)\n",
    "trainlabels50, testlabels50 = split(train_labels, 0.5)\n",
    "\n",
    "weights = w_perceptron(train50, trainlabels50, 2500)\n",
    "res = predictall(weights, test50)"
   ]
  },
  {
   "cell_type": "code",
   "execution_count": 619,
   "metadata": {},
   "outputs": [
    {
     "data": {
      "text/plain": [
       "0.6145648312611013"
      ]
     },
     "execution_count": 619,
     "metadata": {},
     "output_type": "execute_result"
    }
   ],
   "source": [
    "uw_accuracy(res, testlabels50)"
   ]
  },
  {
   "cell_type": "code",
   "execution_count": 620,
   "metadata": {},
   "outputs": [
    {
     "data": {
      "text/plain": [
       "0.615595075239398"
      ]
     },
     "execution_count": 620,
     "metadata": {},
     "output_type": "execute_result"
    }
   ],
   "source": [
    "w_accuracy(res, testlabels50)"
   ]
  },
  {
   "cell_type": "code",
   "execution_count": 646,
   "metadata": {},
   "outputs": [],
   "source": [
    "train90, test10 = split(perc_traindata, 0.9)\n",
    "trainlabels90, testlabels10 = split(train_labels, 0.9)\n",
    "\n",
    "weights = w_perceptron(train90, trainlabels90, 4000)\n",
    "res = predictall(weights, test10)\n",
    "##For this split of the data, it seems that it's almost stable above num_iterations >= 4000"
   ]
  },
  {
   "cell_type": "code",
   "execution_count": 647,
   "metadata": {},
   "outputs": [
    {
     "data": {
      "text/plain": [
       "0.6517857142857143"
      ]
     },
     "execution_count": 647,
     "metadata": {},
     "output_type": "execute_result"
    }
   ],
   "source": [
    "uw_accuracy(res, testlabels10)"
   ]
  },
  {
   "cell_type": "code",
   "execution_count": 648,
   "metadata": {},
   "outputs": [
    {
     "data": {
      "text/plain": [
       "0.6907894736842105"
      ]
     },
     "execution_count": 648,
     "metadata": {},
     "output_type": "execute_result"
    }
   ],
   "source": [
    "w_accuracy(res, testlabels10)"
   ]
  },
  {
   "cell_type": "code",
   "execution_count": 607,
   "metadata": {},
   "outputs": [],
   "source": [
    "##The fact that the weighted performed almost as bad as the unweighted -> the data is really poorly represented for linear\n",
    "##classification"
   ]
  },
  {
   "cell_type": "markdown",
   "metadata": {},
   "source": [
    "### Weighted Perceptron Submission"
   ]
  },
  {
   "cell_type": "code",
   "execution_count": 654,
   "metadata": {},
   "outputs": [],
   "source": [
    "perc_testdata = add_bias(flat_testdata)"
   ]
  },
  {
   "cell_type": "code",
   "execution_count": 655,
   "metadata": {},
   "outputs": [],
   "source": [
    "weights = w_perceptron(perc_traindata, train_labels, 5000)\n",
    "subm5 = predictall(weights, perc_testdata)"
   ]
  },
  {
   "cell_type": "code",
   "execution_count": 657,
   "metadata": {},
   "outputs": [],
   "source": [
    "makesubmission(5, subm5)"
   ]
  },
  {
   "cell_type": "markdown",
   "metadata": {},
   "source": [
    "### SVM"
   ]
  },
  {
   "cell_type": "code",
   "execution_count": 658,
   "metadata": {},
   "outputs": [],
   "source": [
    "X_train, X_test, y_train, y_test = train_test_split(flat_traindata, train_labels, random_state = 0, test_size = 0.3) \n",
    "svclassifier = SVC(kernel='linear')\n",
    "model = svclassifier.fit(X_train, y_train) "
   ]
  },
  {
   "cell_type": "code",
   "execution_count": 659,
   "metadata": {},
   "outputs": [],
   "source": [
    "svm_predictions = model.predict(X_test)"
   ]
  },
  {
   "cell_type": "code",
   "execution_count": 660,
   "metadata": {},
   "outputs": [
    {
     "data": {
      "text/plain": [
       "0.5958702064896755"
      ]
     },
     "execution_count": 660,
     "metadata": {},
     "output_type": "execute_result"
    }
   ],
   "source": [
    "model.score(X_test, y_test)"
   ]
  },
  {
   "cell_type": "code",
   "execution_count": null,
   "metadata": {},
   "outputs": [],
   "source": [
    "confusion_matrix(y_test, svm_predictions)"
   ]
  },
  {
   "cell_type": "code",
   "execution_count": 683,
   "metadata": {},
   "outputs": [],
   "source": [
    "train70, test30 = split(flat_traindata, 0.7)\n",
    "trainlabels70, testlabels30 = split(train_labels, 0.7)\n",
    "\n",
    "list_train70 = list(train70.values())\n",
    "list_test30 = list(test30.values())\n",
    "list_trainlabels70 = list(trainlabels70.values())\n",
    "list_testlabels30 = list(testlabels30.values())\n",
    "\n",
    "svclassifier = SVC(kernel='linear')\n",
    "model = svclassifier.fit(list_train70, list_trainlabels70) "
   ]
  },
  {
   "cell_type": "code",
   "execution_count": 684,
   "metadata": {},
   "outputs": [],
   "source": [
    "svm_predictions = model.predict(list_test30) "
   ]
  },
  {
   "cell_type": "code",
   "execution_count": 685,
   "metadata": {},
   "outputs": [
    {
     "data": {
      "text/plain": [
       "1.0"
      ]
     },
     "execution_count": 685,
     "metadata": {},
     "output_type": "execute_result"
    }
   ],
   "source": [
    "uw_accuracy(svm_predictions, list_testlabels30)"
   ]
  },
  {
   "cell_type": "code",
   "execution_count": 680,
   "metadata": {},
   "outputs": [
    {
     "data": {
      "text/plain": [
       "0.6005917159763313"
      ]
     },
     "execution_count": 680,
     "metadata": {},
     "output_type": "execute_result"
    }
   ],
   "source": [
    "model.score(list_test30, list_testlabels30)"
   ]
  },
  {
   "cell_type": "markdown",
   "metadata": {},
   "source": [
    "### SVM submission"
   ]
  },
  {
   "cell_type": "code",
   "execution_count": 687,
   "metadata": {},
   "outputs": [],
   "source": [
    "list_train = list(flat_traindata.values())\n",
    "list_trainlabels = list(train_labels.values())\n",
    "\n",
    "svclassifier = SVC(kernel='linear')\n",
    "model = svclassifier.fit(list_train, list_trainlabels) "
   ]
  },
  {
   "cell_type": "code",
   "execution_count": 688,
   "metadata": {},
   "outputs": [],
   "source": [
    "list_test = list(flat_testdata.values())"
   ]
  },
  {
   "cell_type": "code",
   "execution_count": 689,
   "metadata": {},
   "outputs": [],
   "source": [
    "subm6 = model.predict(list_test) "
   ]
  },
  {
   "cell_type": "code",
   "execution_count": 691,
   "metadata": {},
   "outputs": [],
   "source": [
    "makesubmission(6, subm6)"
   ]
  },
  {
   "cell_type": "markdown",
   "metadata": {},
   "source": [
    "### Kernelized SVM"
   ]
  },
  {
   "cell_type": "code",
   "execution_count": 30,
   "metadata": {},
   "outputs": [
    {
     "name": "stdout",
     "output_type": "stream",
     "text": [
      "3\n",
      "6\n",
      "10\n",
      "15\n",
      "20\n",
      "25\n",
      "30\n"
     ]
    }
   ],
   "source": [
    "X_train, X_test, y_train, y_test = train_test_split(flat_traindata, train_labels, random_state = 0, test_size = 0.3)\n",
    "\n",
    "degs = [3, 6, 10, 15, 20, 25, 30]\n",
    "models = []\n",
    "for deg in degs:\n",
    "    svclassifier = SVC(kernel='poly', degree=deg, gamma='scale')\n",
    "    curr_model = svclassifier.fit(X_train, y_train)\n",
    "    models.append(curr_model)\n",
    "    print(deg)"
   ]
  },
  {
   "cell_type": "code",
   "execution_count": 31,
   "metadata": {},
   "outputs": [],
   "source": [
    "accuracies = []\n",
    "cms = []\n",
    "for i in range(len(degs)):\n",
    "    curr_predic = models[i].predict(X_test)\n",
    "    curr_acc = models[i].score(X_test, y_test)\n",
    "    curr_cm = confusion_matrix(y_test, curr_predic)\n",
    "    accuracies.append(curr_acc)\n",
    "    cms.append(curr_cm)\n",
    "    #print(i)"
   ]
  },
  {
   "cell_type": "code",
   "execution_count": 32,
   "metadata": {},
   "outputs": [
    {
     "data": {
      "image/png": "[encoded data removed]",
      "text/plain": [
       "<Figure size 720x360 with 1 Axes>"
      ]
     },
     "metadata": {
      "needs_background": "light"
     },
     "output_type": "display_data"
    }
   ],
   "source": [
    "plt.plot(degs, accuracies, 'maroon')\n",
    "plt.scatter(degs, accuracies, color='maroon')\n",
    "plt.xlabel('Degree')\n",
    "plt.ylabel('Accuracy')\n",
    "plt.savefig('Ker_SVM', dpi=200)"
   ]
  },
  {
   "cell_type": "code",
   "execution_count": 705,
   "metadata": {},
   "outputs": [
    {
     "data": {
      "text/plain": [
       "[array([[84,  3, 16,  7],\n",
       "        [ 2, 17,  9,  1],\n",
       "        [13,  0, 49, 46],\n",
       "        [ 5,  1, 34, 52]], dtype=int64), array([[89,  3, 11,  7],\n",
       "        [ 2, 18,  8,  1],\n",
       "        [12,  0, 51, 45],\n",
       "        [ 7,  1, 28, 56]], dtype=int64), array([[93,  2,  7,  8],\n",
       "        [ 3, 19,  5,  2],\n",
       "        [15,  0, 49, 44],\n",
       "        [ 8,  1, 22, 61]], dtype=int64), array([[93,  2,  8,  7],\n",
       "        [ 6, 14,  5,  4],\n",
       "        [17,  1, 44, 46],\n",
       "        [ 6,  1, 25, 60]], dtype=int64), array([[91,  2,  8,  9],\n",
       "        [ 7, 12,  6,  4],\n",
       "        [15,  2, 48, 43],\n",
       "        [ 4,  0, 25, 63]], dtype=int64)]"
      ]
     },
     "execution_count": 705,
     "metadata": {},
     "output_type": "execute_result"
    }
   ],
   "source": [
    "cms"
   ]
  },
  {
   "cell_type": "markdown",
   "metadata": {},
   "source": [
    "### Kernelized SVM submission"
   ]
  },
  {
   "cell_type": "code",
   "execution_count": 929,
   "metadata": {},
   "outputs": [],
   "source": [
    "list_train = list(flat_traindata.values())\n",
    "list_trainlabels = list(train_labels.values())\n",
    "\n",
    "svclassifier = SVC(kernel='poly', degree=10, gamma='scale')\n",
    "model = svclassifier.fit(list_train, list_trainlabels) "
   ]
  },
  {
   "cell_type": "code",
   "execution_count": 930,
   "metadata": {},
   "outputs": [],
   "source": [
    "list_test = list(flat_testdata.values())"
   ]
  },
  {
   "cell_type": "code",
   "execution_count": 931,
   "metadata": {},
   "outputs": [],
   "source": [
    "subm7 = model.predict(list_test) "
   ]
  },
  {
   "cell_type": "code",
   "execution_count": 932,
   "metadata": {},
   "outputs": [],
   "source": [
    "makesubmission(7, subm7)"
   ]
  },
  {
   "cell_type": "markdown",
   "metadata": {},
   "source": [
    "## Now use dimensionality reduction w SVM"
   ]
  },
  {
   "cell_type": "code",
   "execution_count": 713,
   "metadata": {},
   "outputs": [],
   "source": [
    "X_train, X_test, y_train, y_test = train_test_split(flat_traindata, train_labels, random_state = 0, test_size = 0.3)"
   ]
  },
  {
   "cell_type": "code",
   "execution_count": 724,
   "metadata": {},
   "outputs": [],
   "source": [
    "#first normalize\n",
    "sc = StandardScaler()\n",
    "normal_train70 = sc.fit_transform(X_train)\n",
    "normal_test30 = sc.transform(X_test)"
   ]
  },
  {
   "cell_type": "code",
   "execution_count": 728,
   "metadata": {},
   "outputs": [],
   "source": [
    "pca = PCA()\n",
    "pca_train70 = pca.fit_transform(normal_train70)\n",
    "pca_test30 = pca.transform(normal_test30)"
   ]
  },
  {
   "cell_type": "code",
   "execution_count": 732,
   "metadata": {},
   "outputs": [],
   "source": [
    "degs = [1, 2, 3, 4, 5]\n",
    "models = []\n",
    "for deg in degs:\n",
    "    svclassifier = SVC(kernel='poly', degree=deg, gamma='scale')\n",
    "    curr_model = svclassifier.fit(pca_train70, y_train)\n",
    "    models.append(curr_model)\n",
    "    #print(deg)"
   ]
  },
  {
   "cell_type": "code",
   "execution_count": 733,
   "metadata": {},
   "outputs": [],
   "source": [
    "accuracies = []\n",
    "cms = []\n",
    "for i in range(len(degs)):\n",
    "    curr_predic = models[i].predict(pca_test30)\n",
    "    curr_acc = models[i].score(pca_test30, y_test)\n",
    "    curr_cm = confusion_matrix(y_test, curr_predic)\n",
    "    accuracies.append(curr_acc)\n",
    "    cms.append(curr_cm)"
   ]
  },
  {
   "cell_type": "code",
   "execution_count": 737,
   "metadata": {},
   "outputs": [
    {
     "data": {
      "text/plain": [
       "[<matplotlib.lines.Line2D at 0x2ba685a5188>]"
      ]
     },
     "execution_count": 737,
     "metadata": {},
     "output_type": "execute_result"
    },
    {
     "data": {
      "image/png": "[encoded data removed]",
      "text/plain": [
       "<Figure size 432x288 with 1 Axes>"
      ]
     },
     "metadata": {
      "needs_background": "light"
     },
     "output_type": "display_data"
    }
   ],
   "source": [
    "plt.plot(degs, accuracies)"
   ]
  },
  {
   "cell_type": "code",
   "execution_count": 735,
   "metadata": {},
   "outputs": [
    {
     "data": {
      "text/plain": [
       "[array([[90,  2, 11,  7],\n",
       "        [ 4, 18,  3,  4],\n",
       "        [15,  0, 43, 50],\n",
       "        [ 9,  0, 25, 58]], dtype=int64), array([[79,  0,  6, 25],\n",
       "        [ 5, 15,  4,  5],\n",
       "        [ 6,  0, 26, 76],\n",
       "        [ 2,  0, 17, 73]], dtype=int64), array([[67,  1,  1, 41],\n",
       "        [ 4, 12,  5,  8],\n",
       "        [ 6,  0, 17, 85],\n",
       "        [ 3,  0, 10, 79]], dtype=int64), array([[44,  2,  2, 62],\n",
       "        [ 2,  9,  5, 13],\n",
       "        [ 3,  0, 13, 92],\n",
       "        [ 0,  0,  3, 89]], dtype=int64), array([[33,  1,  1, 75],\n",
       "        [ 1,  8,  3, 17],\n",
       "        [ 2,  0, 12, 94],\n",
       "        [ 1,  0,  0, 91]], dtype=int64)]"
      ]
     },
     "execution_count": 735,
     "metadata": {},
     "output_type": "execute_result"
    }
   ],
   "source": [
    "cms"
   ]
  },
  {
   "cell_type": "markdown",
   "metadata": {},
   "source": [
    "## Use dim-reduction with perceptron, w/out kernel"
   ]
  },
  {
   "cell_type": "code",
   "execution_count": 742,
   "metadata": {},
   "outputs": [],
   "source": [
    "flat_train70, flat_test30 = split(flat_traindata, 0.7)\n",
    "trainlabels70, testlabels30 = split(train_labels, 0.7)"
   ]
  },
  {
   "cell_type": "code",
   "execution_count": 744,
   "metadata": {},
   "outputs": [],
   "source": [
    "sc = StandardScaler()\n",
    "normal_train70 = sc.fit_transform(list(flat_train70.values()))\n",
    "normal_test30 = sc.transform(list(flat_test30.values()))"
   ]
  },
  {
   "cell_type": "code",
   "execution_count": 745,
   "metadata": {},
   "outputs": [],
   "source": [
    "pca = PCA()\n",
    "pca_train70 = pca.fit_transform(normal_train70)\n",
    "pca_test30 = pca.transform(normal_test30)"
   ]
  },
  {
   "cell_type": "code",
   "execution_count": 748,
   "metadata": {},
   "outputs": [],
   "source": [
    "perc_train70 = add_bias(pca_train70)\n",
    "perc_test30 = add_bias(pca_test30)"
   ]
  },
  {
   "cell_type": "code",
   "execution_count": 835,
   "metadata": {},
   "outputs": [],
   "source": [
    "weights = uw_perceptron(perc_train70, trainlabels70, 2000)\n",
    "res = predictall(weights, perc_test30)"
   ]
  },
  {
   "cell_type": "code",
   "execution_count": 836,
   "metadata": {},
   "outputs": [],
   "source": [
    "dict_res = {}\n",
    "i = 0\n",
    "for key in testlabels30:\n",
    "    dict_res[key] = res[i]\n",
    "    i+=1"
   ]
  },
  {
   "cell_type": "code",
   "execution_count": 837,
   "metadata": {},
   "outputs": [
    {
     "data": {
      "text/plain": [
       "0.5562130177514792"
      ]
     },
     "execution_count": 837,
     "metadata": {},
     "output_type": "execute_result"
    }
   ],
   "source": [
    "uw_accuracy(dict_res, testlabels30)"
   ]
  },
  {
   "cell_type": "code",
   "execution_count": 842,
   "metadata": {},
   "outputs": [],
   "source": [
    "flat_train90, flat_test10 = split(flat_traindata, 0.9)\n",
    "trainlabels90, testlabels10 = split(train_labels, 0.9)"
   ]
  },
  {
   "cell_type": "code",
   "execution_count": 843,
   "metadata": {},
   "outputs": [],
   "source": [
    "sc = StandardScaler()\n",
    "normal_train90 = sc.fit_transform(list(flat_train90.values()))\n",
    "normal_test10 = sc.transform(list(flat_test10.values()))"
   ]
  },
  {
   "cell_type": "code",
   "execution_count": 844,
   "metadata": {},
   "outputs": [],
   "source": [
    "pca = PCA()\n",
    "pca_train90 = pca.fit_transform(normal_train90)\n",
    "pca_test10 = pca.transform(normal_test10)"
   ]
  },
  {
   "cell_type": "code",
   "execution_count": 845,
   "metadata": {},
   "outputs": [],
   "source": [
    "perc_train90 = add_bias(pca_train90)\n",
    "perc_test10 = add_bias(pca_test10)"
   ]
  },
  {
   "cell_type": "code",
   "execution_count": 921,
   "metadata": {},
   "outputs": [],
   "source": [
    "weights = uw_perceptron(perc_train90, trainlabels90, 5500)\n",
    "res = predictall(weights, perc_test10)"
   ]
  },
  {
   "cell_type": "code",
   "execution_count": 922,
   "metadata": {},
   "outputs": [],
   "source": [
    "dict_res = {}\n",
    "i = 0\n",
    "for key in testlabels10:\n",
    "    dict_res[key] = res[i]\n",
    "    i+=1"
   ]
  },
  {
   "cell_type": "code",
   "execution_count": 923,
   "metadata": {},
   "outputs": [
    {
     "data": {
      "text/plain": [
       "0.6160714285714286"
      ]
     },
     "execution_count": 923,
     "metadata": {},
     "output_type": "execute_result"
    }
   ],
   "source": [
    "uw_accuracy(dict_res, testlabels10)"
   ]
  },
  {
   "cell_type": "markdown",
   "metadata": {},
   "source": [
    "### Submit dim-reduc perceptron"
   ]
  },
  {
   "cell_type": "code",
   "execution_count": 840,
   "metadata": {},
   "outputs": [],
   "source": [
    "sc = StandardScaler()\n",
    "normal_train = sc.fit_transform(list(flat_traindata.values()))\n",
    "normal_test = sc.transform(list(flat_testdata.values()))"
   ]
  },
  {
   "cell_type": "code",
   "execution_count": 841,
   "metadata": {},
   "outputs": [],
   "source": [
    "pca = PCA()\n",
    "pca_train = pca.fit_transform(normal_train)\n",
    "pca_test = pca.transform(normal_test)"
   ]
  },
  {
   "cell_type": "code",
   "execution_count": 924,
   "metadata": {},
   "outputs": [],
   "source": [
    "perc_train = add_bias(pca_train)\n",
    "perc_test = add_bias(pca_test)"
   ]
  },
  {
   "cell_type": "code",
   "execution_count": 933,
   "metadata": {},
   "outputs": [],
   "source": [
    "weights = uw_perceptron(perc_train, train_labels, 5500)\n",
    "subm8 = predictall(weights, perc_test)"
   ]
  },
  {
   "cell_type": "code",
   "execution_count": 934,
   "metadata": {},
   "outputs": [],
   "source": [
    "makesubmission(8, subm8)"
   ]
  },
  {
   "cell_type": "markdown",
   "metadata": {},
   "source": [
    "### Try kernelized Perceptron"
   ]
  },
  {
   "cell_type": "code",
   "execution_count": 33,
   "metadata": {},
   "outputs": [],
   "source": [
    "def kernel_dots(x, data_arr, p):\n",
    "    return (1+np.dot(data_arr, x))**p"
   ]
  },
  {
   "cell_type": "code",
   "execution_count": 34,
   "metadata": {},
   "outputs": [],
   "source": [
    "def kernel_perceptron(data, labels, p, iterations):\n",
    "    n = len(data)\n",
    "    d = len(data[0])\n",
    "    \n",
    "    data_arr = np.zeros((n,d))\n",
    "    for i in range(n):\n",
    "        data_arr[i] = data[i]\n",
    "        \n",
    "    alphas = np.zeros((4,n))\n",
    "    for res in range(4):\n",
    "        curr_labels = np.array(list(onevall_label(labels, res).values()))\n",
    "        alpha = np.zeros(n)\n",
    "        for i in range(iterations):\n",
    "            index = i % (n-1) + 1\n",
    "            alpha = kernel_updatealpha(data_arr, curr_labels, alpha, index, p)\n",
    "        \n",
    "        alphas[res] = alpha\n",
    "    \n",
    "    return alphas\n",
    "\"\"\"\n",
    "    alphas = np.zeros((4, n))\n",
    "    all_labels = np.zeros((4, n))\n",
    "    \n",
    "    for res in range(4):\n",
    "        new_labels = onevall_label(labels, res)\n",
    "        all_labels[res] = np.array(list(new_labels.values()))\n",
    "    \n",
    "    for i in range(iterations):\n",
    "        index = i % (n-1) + 1\n",
    "        alphas = kernel_updatealphas(data_arr, all_labels, alphas, index, p)\n",
    "    \n",
    "    return alphas\n",
    "\"\"\";"
   ]
  },
  {
   "cell_type": "code",
   "execution_count": 35,
   "metadata": {},
   "outputs": [],
   "source": [
    "def kernel_updatealpha(data_arr, labels, alpha, index, p):\n",
    "    x = data_arr[index]\n",
    "    y = labels[index]\n",
    "    corrected_pred = y*kernel_predict1(data_arr, labels, alpha, x, p)\n",
    "        \n",
    "    if corrected_pred <= 0:\n",
    "        alpha[index] += 1\n",
    "        \n",
    "    return alpha\n",
    "    \n",
    "\"\"\"\n",
    "    for res in range(4):\n",
    "        y = ys[res]\n",
    "        corrected_pred = y*kernel_predict1(data_arr, labels[res], alphas[res], x, p)\n",
    "        \n",
    "        if corrected_pred <= 0:\n",
    "            alphas[res][index] += 1\n",
    "    \n",
    "    return alphas\n",
    "\"\"\";"
   ]
  },
  {
   "cell_type": "code",
   "execution_count": 36,
   "metadata": {},
   "outputs": [],
   "source": [
    "def kernel_predict1(data_arr, label, alpha, x, p):\n",
    "    dots = kernel_dots(x, data_arr, p)\n",
    "    return np.dot(dots, alpha*label)"
   ]
  },
  {
   "cell_type": "code",
   "execution_count": 37,
   "metadata": {},
   "outputs": [],
   "source": [
    "def kernel_predict(data_arr, all_labels, alphas, x, p):\n",
    "    amounts = np.zeros(4)\n",
    "    for res in range(4):\n",
    "        alpha = alphas[res]\n",
    "        label = all_labels[res]\n",
    "        dots = kernel_dots(x, data_arr, p)\n",
    "        amounts[res] = np.dot(dots, alpha*label)\n",
    "    \n",
    "    return np.argmax(amounts)"
   ]
  },
  {
   "cell_type": "code",
   "execution_count": 38,
   "metadata": {},
   "outputs": [],
   "source": [
    "def kernel_predictall(training, train_labels, alphas, test, p):\n",
    "    data_arr = np.array(list(training.values()))\n",
    "    all_labels = np.zeros((4, len(data_arr)))\n",
    "    for res in range(4):\n",
    "        new_labels = onevall_label(train_labels, res)\n",
    "        all_labels[res] = np.array(list(new_labels.values()))\n",
    "    \n",
    "    results = {}\n",
    "    for key in test:\n",
    "        results[key] = kernel_predict(data_arr, all_labels, alphas, test[key], p)\n",
    "    return results"
   ]
  },
  {
   "cell_type": "code",
   "execution_count": null,
   "metadata": {},
   "outputs": [],
   "source": []
  },
  {
   "cell_type": "code",
   "execution_count": 39,
   "metadata": {},
   "outputs": [],
   "source": [
    "perc_traindata = add_bias(flat_traindata)"
   ]
  },
  {
   "cell_type": "code",
   "execution_count": 40,
   "metadata": {},
   "outputs": [],
   "source": [
    "train70, test30 = split(perc_traindata, 0.7)\n",
    "trainlabels70, testlabels30 = split(train_labels, 0.7)\n",
    "#Problem1: Very dependent on no. of iterations\n",
    "#Problem2: Very few labeled as viral"
   ]
  },
  {
   "cell_type": "code",
   "execution_count": null,
   "metadata": {},
   "outputs": [],
   "source": [
    "alphas = kernel_perceptron(train70, trainlabels70, 2, 3000)"
   ]
  },
  {
   "cell_type": "code",
   "execution_count": 102,
   "metadata": {},
   "outputs": [],
   "source": [
    "res = kernel_predictall(train70, trainlabels70, alphas, test30, 2)"
   ]
  },
  {
   "cell_type": "code",
   "execution_count": 103,
   "metadata": {
    "scrolled": true
   },
   "outputs": [
    {
     "data": {
      "text/plain": [
       "0.6301775147928994"
      ]
     },
     "execution_count": 103,
     "metadata": {},
     "output_type": "execute_result"
    }
   ],
   "source": [
    "uw_accuracy(res, testlabels30)"
   ]
  },
  {
   "cell_type": "code",
   "execution_count": 117,
   "metadata": {},
   "outputs": [],
   "source": [
    "train70, test30 = split(perc_traindata, 0.7)\n",
    "trainlabels70, testlabels30 = split(train_labels, 0.7)\n",
    "\n",
    "alphas = kernel_perceptron(train70, trainlabels70, 4, 2500)\n",
    "#Problem1: Very dependent on no. of iterations\n",
    "#Problem2: Very few labeled as viral"
   ]
  },
  {
   "cell_type": "code",
   "execution_count": 118,
   "metadata": {},
   "outputs": [],
   "source": [
    "res = kernel_predictall(train70, trainlabels70, alphas, test30, 4)"
   ]
  },
  {
   "cell_type": "code",
   "execution_count": 119,
   "metadata": {},
   "outputs": [
    {
     "data": {
      "text/plain": [
       "0.6301775147928994"
      ]
     },
     "execution_count": 119,
     "metadata": {},
     "output_type": "execute_result"
    }
   ],
   "source": [
    "uw_accuracy(res, testlabels30)"
   ]
  },
  {
   "cell_type": "code",
   "execution_count": 42,
   "metadata": {},
   "outputs": [
    {
     "name": "stdout",
     "output_type": "stream",
     "text": [
      "3 2000\n",
      "0.606508875739645\n",
      "3 2500\n",
      "0.6449704142011834\n",
      "3 3000\n",
      "0.6775147928994083\n",
      "3 3500\n",
      "0.6390532544378699\n",
      "6 2000\n",
      "0.6597633136094675\n",
      "6 2500\n",
      "0.6183431952662722\n",
      "6 3000\n",
      "0.6568047337278107\n",
      "6 3500\n",
      "0.591715976331361\n",
      "10 2000\n",
      "0.6597633136094675\n",
      "10 2500\n",
      "0.6331360946745562\n",
      "10 3000\n",
      "0.6449704142011834\n",
      "10 3500\n",
      "0.6420118343195266\n",
      "15 2000\n",
      "0.4260355029585799\n",
      "15 2500\n",
      "0.4556213017751479\n",
      "15 3000\n",
      "0.6479289940828402\n",
      "15 3500\n",
      "0.6449704142011834\n"
     ]
    }
   ],
   "source": [
    "ps = [3, 6, 10, 15]\n",
    "iters =  [2000, 2500, 3000, 3500]\n",
    "\n",
    "accs = np.zeros((len(ps), len(iters)))\n",
    "all_alphas = {}\n",
    "\n",
    "for i in range(len(ps)):\n",
    "    for j in range(len(iters)):\n",
    "        p = ps[i]\n",
    "        it = iters[j]\n",
    "        curr_alphas = kernel_perceptron(train70, trainlabels70, p, it)\n",
    "        all_alphas[tuple((p, it))] = curr_alphas\n",
    "        \n",
    "        curr_res = kernel_predictall(train70, trainlabels70, curr_alphas, test30, p)\n",
    "        curr_acc = uw_accuracy(curr_res, testlabels30)\n",
    "        accs[i][j] = curr_acc\n",
    "        \n",
    "        print(p, it)\n",
    "        print(curr_acc)"
   ]
  },
  {
   "cell_type": "code",
   "execution_count": 44,
   "metadata": {},
   "outputs": [],
   "source": [
    "best_accs = []\n",
    "for i in range(len(ps)):\n",
    "    best_accs.append(np.max(accs[i]))"
   ]
  },
  {
   "cell_type": "code",
   "execution_count": 50,
   "metadata": {},
   "outputs": [
    {
     "data": {
      "image/png": "[encoded data removed]",
      "text/plain": [
       "<Figure size 720x360 with 1 Axes>"
      ]
     },
     "metadata": {
      "needs_background": "light"
     },
     "output_type": "display_data"
    }
   ],
   "source": [
    "plt.scatter(iters, accs[2], color='purple')\n",
    "plt.plot(iters, accs[2], color='purple')\n",
    "plt.xlabel('Iterations')\n",
    "plt.ylabel('Accuracy')\n",
    "plt.ylim(0.6, 0.7)\n",
    "plt.savefig('Ker_Perc', dpi=200)"
   ]
  },
  {
   "cell_type": "code",
   "execution_count": 135,
   "metadata": {},
   "outputs": [
    {
     "data": {
      "text/plain": [
       "0.6331360946745562"
      ]
     },
     "execution_count": 135,
     "metadata": {},
     "output_type": "execute_result"
    }
   ],
   "source": [
    "alphas = kernel_perceptron(train70, trainlabels70, 10, 2100)\n",
    "res = kernel_predictall(train70, trainlabels70, alphas, test30, 10)\n",
    "uw_accuracy(res, testlabels30)\n",
    "##p=10, n=2100 gives 0.67 acc"
   ]
  },
  {
   "cell_type": "code",
   "execution_count": 137,
   "metadata": {},
   "outputs": [],
   "source": [
    "train90, test10 = split(perc_traindata, 0.9)\n",
    "trainlabels90, testlabels10 = split(train_labels, 0.9)\n",
    "#alphas = kernel_perceptron(train90, trainlabels90, 4, 5000)\n",
    "#Problem1: Very dependent on no. of iterations\n",
    "#Problem2: Very few labeled as viral"
   ]
  },
  {
   "cell_type": "code",
   "execution_count": 138,
   "metadata": {},
   "outputs": [
    {
     "name": "stdout",
     "output_type": "stream",
     "text": [
      "6 2000\n",
      "0.7589285714285714\n",
      "\n",
      "6 2500\n",
      "0.6517857142857143\n",
      "\n",
      "6 3000\n",
      "0.5357142857142857\n",
      "\n",
      "6 3500\n",
      "0.5892857142857143\n",
      "\n",
      "8 2000\n",
      "0.5446428571428571\n",
      "\n",
      "8 2500\n",
      "0.6339285714285714\n",
      "\n",
      "8 3000\n",
      "0.5178571428571429\n",
      "\n",
      "8 3500\n",
      "0.4732142857142857\n",
      "\n",
      "10 2000\n",
      "0.5982142857142857\n",
      "\n",
      "10 2500\n",
      "0.5357142857142857\n",
      "\n",
      "10 3000\n",
      "0.5446428571428571\n",
      "\n",
      "10 3500\n",
      "0.6160714285714286\n",
      "\n"
     ]
    }
   ],
   "source": [
    "ps = [6, 8, 10]\n",
    "iters =  [2000, 2500, 3000, 3500]\n",
    "\n",
    "accs90 = np.zeros((len(ps), len(iters)))\n",
    "all_alphas90 = {}\n",
    "\n",
    "for i in range(len(ps)):\n",
    "    for j in range(len(iters)):\n",
    "        p = ps[i]\n",
    "        it = iters[j]\n",
    "        curr_alphas = kernel_perceptron(train90, trainlabels90, p, it)\n",
    "        all_alphas90[tuple((p, it))] = curr_alphas\n",
    "        \n",
    "        curr_res = kernel_predictall(train90, trainlabels90, curr_alphas, test10, p)\n",
    "        curr_acc = uw_accuracy(curr_res, testlabels10)\n",
    "        accs90[i][j] = curr_acc\n",
    "        \n",
    "        print(p, it)\n",
    "        print(curr_acc)\n",
    "        print()"
   ]
  },
  {
   "cell_type": "code",
   "execution_count": 156,
   "metadata": {},
   "outputs": [
    {
     "data": {
      "text/plain": [
       "0.7589285714285714"
      ]
     },
     "execution_count": 156,
     "metadata": {},
     "output_type": "execute_result"
    }
   ],
   "source": [
    "alphas = kernel_perceptron(train90, trainlabels90, 6, 2000)\n",
    "res = kernel_predictall(train90, trainlabels90, alphas, test10, 6)\n",
    "uw_accuracy(res, testlabels10)\n",
    "#p=6, n=2000\n",
    "#p=10, n=1000 ->0.65"
   ]
  },
  {
   "cell_type": "markdown",
   "metadata": {},
   "source": [
    "### Make Submission"
   ]
  },
  {
   "cell_type": "code",
   "execution_count": null,
   "metadata": {},
   "outputs": [],
   "source": [
    "alphas = kernel_perceptron(train90, trainlabels90, 6, 2000)"
   ]
  },
  {
   "cell_type": "code",
   "execution_count": 158,
   "metadata": {},
   "outputs": [],
   "source": [
    "perc_testdata = add_bias(flat_testdata)"
   ]
  },
  {
   "cell_type": "code",
   "execution_count": 159,
   "metadata": {},
   "outputs": [],
   "source": [
    "subm9 = kernel_predictall(train90, trainlabels90, alphas, perc_testdata, 6)"
   ]
  },
  {
   "cell_type": "code",
   "execution_count": 160,
   "metadata": {},
   "outputs": [],
   "source": [
    "makesubmission(9, subm9)"
   ]
  },
  {
   "cell_type": "code",
   "execution_count": 162,
   "metadata": {},
   "outputs": [],
   "source": [
    "alphas = kernel_perceptron(train70, trainlabels70, 10, 2100)"
   ]
  },
  {
   "cell_type": "code",
   "execution_count": 163,
   "metadata": {},
   "outputs": [],
   "source": [
    "subm10 = kernel_predictall(train70, trainlabels70, alphas, perc_testdata, 10)"
   ]
  },
  {
   "cell_type": "code",
   "execution_count": 164,
   "metadata": {},
   "outputs": [],
   "source": [
    "makesubmission(10, subm10)"
   ]
  },
  {
   "cell_type": "markdown",
   "metadata": {},
   "source": [
    "## Histogram of Oriented Gradients"
   ]
  },
  {
   "cell_type": "code",
   "execution_count": 226,
   "metadata": {},
   "outputs": [],
   "source": [
    "#fd, hog_image = hog(traindata[4], orientations=8, pixels_per_cell=(8, 8), cells_per_block=(1, 1), visualize=True)"
   ]
  },
  {
   "cell_type": "code",
   "execution_count": 196,
   "metadata": {},
   "outputs": [],
   "source": [
    "train_dir = 'train/train'\n",
    "raw_traindata = read_dir(train_dir)\n",
    "traindata = standardize(raw_traindata, 200, 200)"
   ]
  },
  {
   "cell_type": "code",
   "execution_count": 197,
   "metadata": {},
   "outputs": [],
   "source": [
    "test_dir = 'test/test'\n",
    "raw_testdata = read_dir(test_dir)\n",
    "testdata = standardize(raw_testdata, 200, 200)"
   ]
  },
  {
   "cell_type": "code",
   "execution_count": 51,
   "metadata": {},
   "outputs": [],
   "source": [
    "def transf_hog(data, orient, pixsv, pixsh):\n",
    "    newdata = {}\n",
    "    imgs = {}\n",
    "    for i in range(len(data)):\n",
    "        fd, hog_im = hog(data[i], orientations=orient, pixels_per_cell=(pixsv, pixsh),\n",
    "                    cells_per_block=(1, 1), visualize=True)\n",
    "        newdata[i] = fd\n",
    "        imgs[i] = hog_im\n",
    "    return newdata, imgs"
   ]
  },
  {
   "cell_type": "code",
   "execution_count": 52,
   "metadata": {},
   "outputs": [],
   "source": [
    "traindata_hog, train_hogs = transf_hog(traindata, 8, 8, 8)\n",
    "testdata_hog, test_hogs = transf_hog(testdata, 8, 8, 8)"
   ]
  },
  {
   "cell_type": "markdown",
   "metadata": {},
   "source": [
    "### Kernelized SVM"
   ]
  },
  {
   "cell_type": "code",
   "execution_count": 237,
   "metadata": {},
   "outputs": [],
   "source": [
    "X_train, X_test, y_train, y_test = train_test_split(traindata_hog, train_labels, random_state = 0, test_size = 0.3)\n",
    "svclassifier = SVC(kernel='linear')\n",
    "model = svclassifier.fit(X_train, y_train)"
   ]
  },
  {
   "cell_type": "code",
   "execution_count": 238,
   "metadata": {},
   "outputs": [],
   "source": [
    "svm_predictions = model.predict(X_test)"
   ]
  },
  {
   "cell_type": "code",
   "execution_count": 239,
   "metadata": {},
   "outputs": [
    {
     "data": {
      "text/plain": [
       "0.6489675516224189"
      ]
     },
     "execution_count": 239,
     "metadata": {},
     "output_type": "execute_result"
    }
   ],
   "source": [
    "model.score(X_test, y_test)"
   ]
  },
  {
   "cell_type": "code",
   "execution_count": 252,
   "metadata": {},
   "outputs": [],
   "source": [
    "X_train, X_test, y_train, y_test = train_test_split(traindata_hog, train_labels, random_state = 0, test_size = 0.3)\n",
    "\n",
    "degs = [1, 3, 6, 8, 10, 12, 16, 18, 20, 25]\n",
    "models = []\n",
    "for deg in degs:\n",
    "    svclassifier = SVC(kernel='poly', degree=deg, gamma='scale')\n",
    "    curr_model = svclassifier.fit(X_train, y_train)\n",
    "    models.append(curr_model)\n",
    "    #print(deg)"
   ]
  },
  {
   "cell_type": "code",
   "execution_count": 253,
   "metadata": {},
   "outputs": [],
   "source": [
    "accuracies = []\n",
    "cms = []\n",
    "for i in range(len(degs)):\n",
    "    curr_predic = models[i].predict(X_test)\n",
    "    curr_acc = models[i].score(X_test, y_test)\n",
    "    curr_cm = confusion_matrix(y_test, curr_predic)\n",
    "    accuracies.append(curr_acc)\n",
    "    cms.append(curr_cm)\n",
    "    #print(i)"
   ]
  },
  {
   "cell_type": "code",
   "execution_count": 254,
   "metadata": {
    "scrolled": true
   },
   "outputs": [
    {
     "data": {
      "text/plain": [
       "[0.6607669616519174,\n",
       " 0.6519174041297935,\n",
       " 0.6430678466076696,\n",
       " 0.6430678466076696,\n",
       " 0.640117994100295,\n",
       " 0.6460176991150443,\n",
       " 0.6489675516224189,\n",
       " 0.6342182890855457,\n",
       " 0.6135693215339233,\n",
       " 0.5781710914454278]"
      ]
     },
     "execution_count": 254,
     "metadata": {},
     "output_type": "execute_result"
    }
   ],
   "source": [
    "accuracies"
   ]
  },
  {
   "cell_type": "code",
   "execution_count": 255,
   "metadata": {},
   "outputs": [
    {
     "data": {
      "text/plain": [
       "[<matplotlib.lines.Line2D at 0x2b4a9345208>]"
      ]
     },
     "execution_count": 255,
     "metadata": {},
     "output_type": "execute_result"
    },
    {
     "data": {
      "image/png": "[encoded data removed]",
      "text/plain": [
       "<Figure size 432x288 with 1 Axes>"
      ]
     },
     "metadata": {
      "needs_background": "light"
     },
     "output_type": "display_data"
    }
   ],
   "source": [
    "plt.plot(degs, accuracies)"
   ]
  },
  {
   "cell_type": "code",
   "execution_count": 256,
   "metadata": {},
   "outputs": [
    {
     "data": {
      "text/plain": [
       "[array([[100,   3,   6,   1],\n",
       "        [  2,   8,   6,  13],\n",
       "        [ 15,   0,  56,  37],\n",
       "        [  6,   0,  26,  60]], dtype=int64),\n",
       " array([[99,  2,  7,  2],\n",
       "        [ 2, 12, 10,  5],\n",
       "        [13,  0, 62, 33],\n",
       "        [ 6,  0, 38, 48]], dtype=int64),\n",
       " array([[100,   2,   6,   2],\n",
       "        [  2,  12,   8,   7],\n",
       "        [ 17,   0,  55,  36],\n",
       "        [  7,   0,  34,  51]], dtype=int64),\n",
       " array([[101,   2,   6,   1],\n",
       "        [  2,  11,   8,   8],\n",
       "        [ 18,   0,  53,  37],\n",
       "        [  8,   0,  31,  53]], dtype=int64),\n",
       " array([[101,   2,   6,   1],\n",
       "        [  2,   9,   7,  11],\n",
       "        [ 20,   0,  53,  35],\n",
       "        [  8,   0,  30,  54]], dtype=int64),\n",
       " array([[102,   1,   6,   1],\n",
       "        [  3,  10,   5,  11],\n",
       "        [ 20,   0,  51,  37],\n",
       "        [  8,   0,  28,  56]], dtype=int64),\n",
       " array([[101,   1,   6,   2],\n",
       "        [  4,   9,   1,  15],\n",
       "        [ 20,   0,  53,  35],\n",
       "        [ 10,   0,  25,  57]], dtype=int64),\n",
       " array([[101,   1,   6,   2],\n",
       "        [  5,   8,   1,  15],\n",
       "        [ 21,   0,  53,  34],\n",
       "        [ 16,   0,  23,  53]], dtype=int64),\n",
       " array([[99,  2,  7,  2],\n",
       "        [ 5,  8,  1, 15],\n",
       "        [22,  0, 51, 35],\n",
       "        [18,  0, 24, 50]], dtype=int64),\n",
       " array([[93,  7,  6,  4],\n",
       "        [ 3, 14,  0, 12],\n",
       "        [25,  4, 46, 33],\n",
       "        [23,  6, 20, 43]], dtype=int64)]"
      ]
     },
     "execution_count": 256,
     "metadata": {},
     "output_type": "execute_result"
    }
   ],
   "source": [
    "cms"
   ]
  },
  {
   "cell_type": "code",
   "execution_count": null,
   "metadata": {},
   "outputs": [],
   "source": []
  },
  {
   "cell_type": "code",
   "execution_count": 53,
   "metadata": {},
   "outputs": [],
   "source": [
    "traindata_hog2, train_hogs2 = transf_hog(traindata, 8, 4, 4)\n",
    "testdata_hog2, test_hogs2 = transf_hog(testdata, 8, 4, 4)"
   ]
  },
  {
   "cell_type": "code",
   "execution_count": 258,
   "metadata": {},
   "outputs": [],
   "source": [
    "X_train, X_test, y_train, y_test = train_test_split(traindata_hog2, train_labels, random_state = 0, test_size = 0.3)\n",
    "\n",
    "degs = [1, 3, 6, 8, 10, 12, 16, 18, 20, 25]\n",
    "models = []\n",
    "for deg in degs:\n",
    "    svclassifier = SVC(kernel='poly', degree=deg, gamma='scale')\n",
    "    curr_model = svclassifier.fit(X_train, y_train)\n",
    "    models.append(curr_model)\n",
    "    #print(deg)"
   ]
  },
  {
   "cell_type": "code",
   "execution_count": 259,
   "metadata": {},
   "outputs": [],
   "source": [
    "accuracies2 = []\n",
    "cms2 = []\n",
    "for i in range(len(degs)):\n",
    "    curr_predic = models[i].predict(X_test)\n",
    "    curr_acc = models[i].score(X_test, y_test)\n",
    "    curr_cm = confusion_matrix(y_test, curr_predic)\n",
    "    accuracies2.append(curr_acc)\n",
    "    cms2.append(curr_cm)\n",
    "    #print(i)"
   ]
  },
  {
   "cell_type": "code",
   "execution_count": 260,
   "metadata": {},
   "outputs": [
    {
     "data": {
      "text/plain": [
       "[0.6578171091445427,\n",
       " 0.6460176991150443,\n",
       " 0.6371681415929203,\n",
       " 0.5958702064896755,\n",
       " 0.5781710914454278,\n",
       " 0.5575221238938053,\n",
       " 0.5103244837758112,\n",
       " 0.4365781710914454,\n",
       " 0.32448377581120946,\n",
       " 0.0855457227138643]"
      ]
     },
     "execution_count": 260,
     "metadata": {},
     "output_type": "execute_result"
    }
   ],
   "source": [
    "accuracies2"
   ]
  },
  {
   "cell_type": "code",
   "execution_count": 261,
   "metadata": {},
   "outputs": [
    {
     "data": {
      "text/plain": [
       "[<matplotlib.lines.Line2D at 0x2b4aa1a6d48>]"
      ]
     },
     "execution_count": 261,
     "metadata": {},
     "output_type": "execute_result"
    },
    {
     "data": {
      "image/png": "[encoded data removed]",
      "text/plain": [
       "<Figure size 432x288 with 1 Axes>"
      ]
     },
     "metadata": {
      "needs_background": "light"
     },
     "output_type": "display_data"
    }
   ],
   "source": [
    "plt.plot(degs, accuracies2)"
   ]
  },
  {
   "cell_type": "code",
   "execution_count": 262,
   "metadata": {},
   "outputs": [
    {
     "data": {
      "text/plain": [
       "[array([[101,   2,   6,   1],\n",
       "        [  2,   9,   5,  13],\n",
       "        [ 15,   0,  51,  42],\n",
       "        [  7,   0,  23,  62]], dtype=int64),\n",
       " array([[103,   1,   5,   1],\n",
       "        [  2,   9,   8,  10],\n",
       "        [ 16,   0,  52,  40],\n",
       "        [  9,   0,  28,  55]], dtype=int64),\n",
       " array([[102,   0,   6,   2],\n",
       "        [  8,   3,   2,  16],\n",
       "        [ 18,   0,  53,  37],\n",
       "        [ 10,   0,  24,  58]], dtype=int64),\n",
       " array([[98,  0,  7,  5],\n",
       "        [11,  0,  2, 16],\n",
       "        [21,  0, 49, 38],\n",
       "        [15,  0, 22, 55]], dtype=int64),\n",
       " array([[96,  0,  8,  6],\n",
       "        [14,  0,  1, 14],\n",
       "        [21,  0, 46, 41],\n",
       "        [19,  0, 19, 54]], dtype=int64),\n",
       " array([[96,  0,  8,  6],\n",
       "        [15,  0,  1, 13],\n",
       "        [27,  0, 42, 39],\n",
       "        [26,  0, 15, 51]], dtype=int64),\n",
       " array([[106,   0,   4,   0],\n",
       "        [ 24,   0,   0,   5],\n",
       "        [ 47,   0,  38,  23],\n",
       "        [ 52,   0,  11,  29]], dtype=int64),\n",
       " array([[109,   0,   1,   0],\n",
       "        [ 27,   0,   1,   1],\n",
       "        [ 72,   0,  25,  11],\n",
       "        [ 72,   0,   6,  14]], dtype=int64),\n",
       " array([[110,   0,   0,   0],\n",
       "        [ 29,   0,   0,   0],\n",
       "        [108,   0,   0,   0],\n",
       "        [ 91,   0,   1,   0]], dtype=int64),\n",
       " array([[  0, 110,   0,   0],\n",
       "        [  0,  29,   0,   0],\n",
       "        [  0, 108,   0,   0],\n",
       "        [  0,  92,   0,   0]], dtype=int64)]"
      ]
     },
     "execution_count": 262,
     "metadata": {},
     "output_type": "execute_result"
    }
   ],
   "source": [
    "cms2"
   ]
  },
  {
   "cell_type": "code",
   "execution_count": null,
   "metadata": {},
   "outputs": [],
   "source": []
  },
  {
   "cell_type": "code",
   "execution_count": 54,
   "metadata": {},
   "outputs": [],
   "source": [
    "traindata_hog3, train_hogs3 = transf_hog(traindata, 8, 16, 16)\n",
    "testdata_hog3, test_hogs3 = transf_hog(testdata, 8, 16, 16)\n",
    "\n",
    "##benefits: huge dim reduc -> significant improve of efficiency + better accuracy"
   ]
  },
  {
   "cell_type": "code",
   "execution_count": 56,
   "metadata": {},
   "outputs": [],
   "source": [
    "X_train, X_test, y_train, y_test = train_test_split(traindata_hog3, train_labels, random_state = 0, test_size = 0.3)\n",
    "\n",
    "degs = [1, 3, 6, 8, 10, 12, 16, 18, 20, 25, 30, 40]\n",
    "models = []\n",
    "for deg in degs:\n",
    "    svclassifier = SVC(kernel='poly', degree=deg, gamma='scale')\n",
    "    curr_model = svclassifier.fit(X_train, y_train)\n",
    "    models.append(curr_model)\n",
    "    #print(deg)"
   ]
  },
  {
   "cell_type": "code",
   "execution_count": 57,
   "metadata": {},
   "outputs": [],
   "source": [
    "accuracies3 = []\n",
    "cms3 = []\n",
    "for i in range(len(degs)):\n",
    "    curr_predic = models[i].predict(X_test)\n",
    "    curr_acc = models[i].score(X_test, y_test)\n",
    "    curr_cm = confusion_matrix(y_test, curr_predic)\n",
    "    accuracies3.append(curr_acc)\n",
    "    cms3.append(curr_cm)\n",
    "    #print(i)"
   ]
  },
  {
   "cell_type": "code",
   "execution_count": 93,
   "metadata": {},
   "outputs": [
    {
     "data": {
      "image/png": "[encoded data removed]",
      "text/plain": [
       "<Figure size 720x360 with 1 Axes>"
      ]
     },
     "metadata": {
      "needs_background": "light"
     },
     "output_type": "display_data"
    }
   ],
   "source": [
    "plt.plot(degs, accuracies3, 'maroon')\n",
    "plt.scatter(degs, accuracies3, color='maroon')\n",
    "plt.xlabel('Degree')\n",
    "plt.ylabel('Accuracy')\n",
    "plt.ylim(0.6, 0.7)\n",
    "plt.savefig('Hog_acc70', dpi=200)"
   ]
  },
  {
   "cell_type": "code",
   "execution_count": 79,
   "metadata": {},
   "outputs": [
    {
     "data": {
      "text/plain": [
       "[array([[98,  4,  6,  2],\n",
       "        [ 2, 10,  6, 11],\n",
       "        [16,  0, 54, 38],\n",
       "        [10,  1, 23, 58]], dtype=int64),\n",
       " array([[93,  2,  7,  8],\n",
       "        [ 2, 14,  8,  5],\n",
       "        [13,  0, 59, 36],\n",
       "        [10,  1, 31, 50]], dtype=int64),\n",
       " array([[97,  2,  7,  4],\n",
       "        [ 1, 15,  8,  5],\n",
       "        [13,  0, 58, 37],\n",
       "        [ 9,  1, 32, 50]], dtype=int64),\n",
       " array([[98,  2,  7,  3],\n",
       "        [ 1, 16,  7,  5],\n",
       "        [13,  0, 59, 36],\n",
       "        [ 9,  1, 33, 49]], dtype=int64),\n",
       " array([[100,   2,   7,   1],\n",
       "        [  0,  17,   7,   5],\n",
       "        [ 13,   0,  59,  36],\n",
       "        [  9,   1,  32,  50]], dtype=int64),\n",
       " array([[99,  3,  7,  1],\n",
       "        [ 0, 18,  5,  6],\n",
       "        [14,  0, 57, 37],\n",
       "        [ 9,  1, 32, 50]], dtype=int64),\n",
       " array([[100,   3,   7,   0],\n",
       "        [  0,  17,   6,   6],\n",
       "        [ 15,   0,  58,  35],\n",
       "        [ 11,   1,  32,  48]], dtype=int64),\n",
       " array([[101,   3,   6,   0],\n",
       "        [  0,  17,   6,   6],\n",
       "        [ 15,   0,  59,  34],\n",
       "        [ 11,   1,  32,  48]], dtype=int64),\n",
       " array([[101,   3,   6,   0],\n",
       "        [  0,  15,   7,   7],\n",
       "        [ 16,   0,  59,  33],\n",
       "        [ 11,   1,  29,  51]], dtype=int64),\n",
       " array([[100,   4,   6,   0],\n",
       "        [  0,  16,   6,   7],\n",
       "        [ 17,   0,  58,  33],\n",
       "        [ 11,   1,  28,  52]], dtype=int64),\n",
       " array([[101,   4,   5,   0],\n",
       "        [  0,  16,   5,   8],\n",
       "        [ 19,   0,  54,  35],\n",
       "        [ 11,   1,  28,  52]], dtype=int64),\n",
       " array([[97,  6,  5,  2],\n",
       "        [ 1, 15,  3, 10],\n",
       "        [18,  2, 52, 36],\n",
       "        [14,  4, 22, 52]], dtype=int64)]"
      ]
     },
     "execution_count": 79,
     "metadata": {},
     "output_type": "execute_result"
    }
   ],
   "source": [
    "cms3"
   ]
  },
  {
   "cell_type": "code",
   "execution_count": 80,
   "metadata": {},
   "outputs": [],
   "source": [
    "X_train, X_test, y_train, y_test = train_test_split(traindata_hog3, train_labels, random_state = 0, test_size = 0.1)\n",
    "\n",
    "degs = [1, 3, 6, 8, 10, 12, 16, 18, 20, 25, 30, 40]\n",
    "models = []\n",
    "for deg in degs:\n",
    "    svclassifier = SVC(kernel='poly', degree=deg, gamma='scale')\n",
    "    curr_model = svclassifier.fit(X_train, y_train)\n",
    "    models.append(curr_model)\n",
    "    #print(deg)"
   ]
  },
  {
   "cell_type": "code",
   "execution_count": 81,
   "metadata": {},
   "outputs": [],
   "source": [
    "accuracies4 = []\n",
    "cms4 = []\n",
    "for i in range(len(degs)):\n",
    "    curr_predic = models[i].predict(X_test)\n",
    "    curr_acc = models[i].score(X_test, y_test)\n",
    "    curr_cm = confusion_matrix(y_test, curr_predic)\n",
    "    accuracies4.append(curr_acc)\n",
    "    cms4.append(curr_cm)\n",
    "    #print(i)"
   ]
  },
  {
   "cell_type": "code",
   "execution_count": 94,
   "metadata": {},
   "outputs": [
    {
     "data": {
      "image/png": "[encoded data removed]",
      "text/plain": [
       "<Figure size 720x360 with 1 Axes>"
      ]
     },
     "metadata": {
      "needs_background": "light"
     },
     "output_type": "display_data"
    }
   ],
   "source": [
    "plt.plot(degs, accuracies4, 'maroon')\n",
    "plt.scatter(degs, accuracies4, color='maroon')\n",
    "plt.xlabel('Degree')\n",
    "plt.ylabel('Accuracy')\n",
    "plt.savefig('Hog_acc90', dpi=200)"
   ]
  },
  {
   "cell_type": "code",
   "execution_count": 109,
   "metadata": {},
   "outputs": [],
   "source": [
    "splits = [0.2, 0.5, 0.7, 0.9]\n",
    "accs_splits = []\n",
    "cms_splits = []\n",
    "for i in range(len(splits)):\n",
    "    X_train, X_test, y_train, y_test = train_test_split(traindata_hog3, train_labels, random_state = 0, test_size = (1-splits[i]) )\n",
    "    svclassifier = SVC(kernel='poly', degree=10, gamma='scale')\n",
    "    curr_model = svclassifier.fit(X_train, y_train)\n",
    "    \n",
    "    curr_predic = curr_model.predict(X_test)\n",
    "    curr_acc = curr_model.score(X_test, y_test)\n",
    "    curr_cm = confusion_matrix(y_test, curr_predic)\n",
    "    accs_splits.append(curr_acc)\n",
    "    cms_splits.append(curr_cm)"
   ]
  },
  {
   "cell_type": "code",
   "execution_count": 119,
   "metadata": {},
   "outputs": [
    {
     "data": {
      "image/png": "[encoded data removed]",
      "text/plain": [
       "<Figure size 720x360 with 1 Axes>"
      ]
     },
     "metadata": {
      "needs_background": "light"
     },
     "output_type": "display_data"
    }
   ],
   "source": [
    "plt.plot(splits, accs_splits, 'red')\n",
    "plt.scatter(splits, accs_splits, color='red')\n",
    "plt.xlabel('Training Fraction')\n",
    "plt.ylabel('Accuracies')\n",
    "plt.savefig(\"Splits_acc\", dpi=200)"
   ]
  },
  {
   "cell_type": "markdown",
   "metadata": {},
   "source": [
    "## Submission"
   ]
  },
  {
   "cell_type": "code",
   "execution_count": 292,
   "metadata": {},
   "outputs": [],
   "source": [
    "##Use hog with 16x16, kernel p=10\n",
    "list_train_hog = list(traindata_hog3.values())\n",
    "list_trainlabels = list(train_labels.values())\n",
    "\n",
    "svclassifier = SVC(kernel='poly', degree=10, gamma='scale')\n",
    "model = svclassifier.fit(list_train_hog, list_trainlabels) "
   ]
  },
  {
   "cell_type": "code",
   "execution_count": 151,
   "metadata": {},
   "outputs": [],
   "source": [
    "list_test_hog = list(testdata_hog3.values())"
   ]
  },
  {
   "cell_type": "code",
   "execution_count": 294,
   "metadata": {},
   "outputs": [],
   "source": [
    "subm11 = model.predict(list_test_hog)"
   ]
  },
  {
   "cell_type": "code",
   "execution_count": 295,
   "metadata": {},
   "outputs": [],
   "source": [
    "makesubmission(11, subm11)"
   ]
  },
  {
   "cell_type": "code",
   "execution_count": 149,
   "metadata": {},
   "outputs": [],
   "source": [
    "##Use hog with 16x16, kernel p=10\n",
    "list_train_hog = list(traindata_hog3.values())\n",
    "list_trainlabels = list(train_labels.values())\n",
    "\n",
    "svclassifier = SVC(kernel='poly', degree=20, gamma='scale')\n",
    "model = svclassifier.fit(list_train_hog, list_trainlabels) "
   ]
  },
  {
   "cell_type": "code",
   "execution_count": 152,
   "metadata": {},
   "outputs": [],
   "source": [
    "subm13 = model.predict(list_test_hog)"
   ]
  },
  {
   "cell_type": "code",
   "execution_count": 153,
   "metadata": {},
   "outputs": [],
   "source": [
    "makesubmission(13, subm13)"
   ]
  },
  {
   "cell_type": "code",
   "execution_count": 154,
   "metadata": {},
   "outputs": [],
   "source": [
    "##Use hog with 16x16, kernel p=10\n",
    "list_train_hog = list(traindata_hog3.values())\n",
    "list_trainlabels = list(train_labels.values())\n",
    "\n",
    "svclassifier = SVC(kernel='poly', degree=2, gamma='scale')\n",
    "model = svclassifier.fit(list_train_hog, list_trainlabels) "
   ]
  },
  {
   "cell_type": "code",
   "execution_count": 155,
   "metadata": {},
   "outputs": [],
   "source": [
    "subm14 = model.predict(list_test_hog)"
   ]
  },
  {
   "cell_type": "code",
   "execution_count": 156,
   "metadata": {},
   "outputs": [],
   "source": [
    "makesubmission(14, subm14)"
   ]
  },
  {
   "cell_type": "markdown",
   "metadata": {},
   "source": [
    "### Kernelized Perceptron"
   ]
  },
  {
   "cell_type": "code",
   "execution_count": 305,
   "metadata": {},
   "outputs": [],
   "source": [
    "perc_traindata_hog = add_bias(traindata_hog3)"
   ]
  },
  {
   "cell_type": "code",
   "execution_count": 307,
   "metadata": {},
   "outputs": [],
   "source": [
    "train70, test30 = split(perc_traindata_hog, 0.7)\n",
    "trainlabels70, testlabels30 = split(train_labels, 0.7)"
   ]
  },
  {
   "cell_type": "code",
   "execution_count": 326,
   "metadata": {},
   "outputs": [],
   "source": [
    "ps = [2, 4, 6, 10, 12, 15, 20, 25, 30]\n",
    "iters =  [2000, 2500, 3000, 3500]\n",
    "\n",
    "accs = np.zeros((len(ps), len(iters)))\n",
    "all_alphas = {}\n",
    "\n",
    "for i in range(len(ps)):\n",
    "    for j in range(len(iters)):\n",
    "        p = ps[i]\n",
    "        it = iters[j]\n",
    "        curr_alphas = kernel_perceptron(train70, trainlabels70, p, it)\n",
    "        all_alphas[tuple((p, it))] = curr_alphas\n",
    "        \n",
    "        curr_res = kernel_predictall(train70, trainlabels70, curr_alphas, test30, p)\n",
    "        curr_acc = uw_accuracy(curr_res, testlabels30)\n",
    "        accs[i][j] = curr_acc\n",
    "        \n",
    "        #print(p, it)\n",
    "        #print(curr_acc)\n",
    "        #print()"
   ]
  },
  {
   "cell_type": "code",
   "execution_count": 327,
   "metadata": {},
   "outputs": [],
   "source": [
    "#note: that performance across no. of iterations is most stable for p=10, 20 -> suggests that these are the natural spaces\n",
    "#in which the data is best represented\n",
    "best_accs = np.zeros(len(ps))\n",
    "best_iters = np.zeros(len(ps))\n",
    "\n",
    "for i in range(len(ps)):\n",
    "    p = ps[i]\n",
    "    best_accs[i] = np.max(accs[i])\n",
    "    best_iters[i] = iters[np.argmax(accs[i])]"
   ]
  },
  {
   "cell_type": "code",
   "execution_count": 328,
   "metadata": {},
   "outputs": [
    {
     "data": {
      "text/plain": [
       "[<matplotlib.lines.Line2D at 0x2b4bb970e08>]"
      ]
     },
     "execution_count": 328,
     "metadata": {},
     "output_type": "execute_result"
    },
    {
     "data": {
      "image/png": "[encoded data removed]",
      "text/plain": [
       "<Figure size 432x288 with 1 Axes>"
      ]
     },
     "metadata": {
      "needs_background": "light"
     },
     "output_type": "display_data"
    }
   ],
   "source": [
    "plt.plot(ps, best_accs)"
   ]
  },
  {
   "cell_type": "code",
   "execution_count": 329,
   "metadata": {},
   "outputs": [],
   "source": [
    "#try with 10, 20\n",
    "iterations = [1000, 1300, 1600, 1900, 2100, 2400, 2700, 3000, 3300, 3600, 4000, 4500, 5000]\n",
    "accs_10 = []\n",
    "accs_20 = []\n",
    "for i in range(len(iterations)):\n",
    "    alphas = kernel_perceptron(train70, trainlabels70, 10, iterations[i])\n",
    "    res = kernel_predictall(train70, trainlabels70, alphas, test30, 10)\n",
    "    accs_10.append(uw_accuracy(res, testlabels30))\n",
    "    \n",
    "    alphas = kernel_perceptron(train70, trainlabels70, 20, iterations[i])\n",
    "    res = kernel_predictall(train70, trainlabels70, alphas, test30, 20)\n",
    "    accs_20.append(uw_accuracy(res, testlabels30))\n",
    "    \n",
    "    #print(i)\n",
    "## 10, 1200 ->0.674"
   ]
  },
  {
   "cell_type": "code",
   "execution_count": 330,
   "metadata": {},
   "outputs": [
    {
     "data": {
      "text/plain": [
       "[<matplotlib.lines.Line2D at 0x2b4bb9c7fc8>]"
      ]
     },
     "execution_count": 330,
     "metadata": {},
     "output_type": "execute_result"
    },
    {
     "data": {
      "image/png": "[encoded data removed]",
      "text/plain": [
       "<Figure size 432x288 with 1 Axes>"
      ]
     },
     "metadata": {
      "needs_background": "light"
     },
     "output_type": "display_data"
    }
   ],
   "source": [
    "plt.plot(iterations, accs_10)"
   ]
  },
  {
   "cell_type": "code",
   "execution_count": 331,
   "metadata": {},
   "outputs": [
    {
     "data": {
      "text/plain": [
       "[<matplotlib.lines.Line2D at 0x2b4bcdaedc8>]"
      ]
     },
     "execution_count": 331,
     "metadata": {},
     "output_type": "execute_result"
    },
    {
     "data": {
      "image/png": "[encoded data removed]",
      "text/plain": [
       "<Figure size 432x288 with 1 Axes>"
      ]
     },
     "metadata": {
      "needs_background": "light"
     },
     "output_type": "display_data"
    }
   ],
   "source": [
    "plt.plot(iterations, accs_20)"
   ]
  },
  {
   "cell_type": "code",
   "execution_count": null,
   "metadata": {},
   "outputs": [],
   "source": []
  },
  {
   "cell_type": "code",
   "execution_count": 332,
   "metadata": {},
   "outputs": [],
   "source": [
    "train90, test10 = split(perc_traindata_hog, 0.9)\n",
    "trainlabels90, testlabels10 = split(train_labels, 0.9)"
   ]
  },
  {
   "cell_type": "code",
   "execution_count": 334,
   "metadata": {},
   "outputs": [
    {
     "data": {
      "text/plain": [
       "0.6428571428571429"
      ]
     },
     "execution_count": 334,
     "metadata": {},
     "output_type": "execute_result"
    }
   ],
   "source": [
    "alphas = kernel_perceptron(train90, trainlabels90, 20, 4500)\n",
    "res = kernel_predictall(train90, trainlabels90, alphas, test10, 20)\n",
    "uw_accuracy(res, testlabels10)"
   ]
  },
  {
   "cell_type": "code",
   "execution_count": 335,
   "metadata": {},
   "outputs": [],
   "source": [
    "#try with 10, 20\n",
    "iterations = [1000, 1300, 1600, 1900, 2100, 2400, 2700, 3000, 3300, 3600, 4000, 4500, 5000]\n",
    "accs90_10 = []\n",
    "accs90_20 = []\n",
    "for i in range(len(iterations)):\n",
    "    alphas = kernel_perceptron(train90, trainlabels90, 10, iterations[i])\n",
    "    res = kernel_predictall(train90, trainlabels90, alphas, test10, 10)\n",
    "    accs90_10.append(uw_accuracy(res, testlabels10))\n",
    "    \n",
    "    alphas = kernel_perceptron(train90, trainlabels90, 20, iterations[i])\n",
    "    res = kernel_predictall(train90, trainlabels90, alphas, test10, 20)\n",
    "    accs90_20.append(uw_accuracy(res, testlabels10))\n",
    "    \n",
    "    #print(i)\n",
    "## 10, 1200 ->0.674"
   ]
  },
  {
   "cell_type": "code",
   "execution_count": 336,
   "metadata": {},
   "outputs": [
    {
     "data": {
      "text/plain": [
       "[<matplotlib.lines.Line2D at 0x2b4be0408c8>]"
      ]
     },
     "execution_count": 336,
     "metadata": {},
     "output_type": "execute_result"
    },
    {
     "data": {
      "image/png": "[encoded data removed]",
      "text/plain": [
       "<Figure size 432x288 with 1 Axes>"
      ]
     },
     "metadata": {
      "needs_background": "light"
     },
     "output_type": "display_data"
    }
   ],
   "source": [
    "plt.plot(iterations, accs90_10)"
   ]
  },
  {
   "cell_type": "code",
   "execution_count": 337,
   "metadata": {},
   "outputs": [
    {
     "data": {
      "text/plain": [
       "[<matplotlib.lines.Line2D at 0x2b4be3c4208>]"
      ]
     },
     "execution_count": 337,
     "metadata": {},
     "output_type": "execute_result"
    },
    {
     "data": {
      "image/png": "[encoded data removed]",
      "text/plain": [
       "<Figure size 432x288 with 1 Axes>"
      ]
     },
     "metadata": {
      "needs_background": "light"
     },
     "output_type": "display_data"
    }
   ],
   "source": [
    "plt.plot(iterations, accs90_20)"
   ]
  },
  {
   "cell_type": "markdown",
   "metadata": {},
   "source": [
    "### Make submission"
   ]
  },
  {
   "cell_type": "code",
   "execution_count": 340,
   "metadata": {},
   "outputs": [],
   "source": [
    "perc_testdata_hog = add_bias(testdata_hog3)"
   ]
  },
  {
   "cell_type": "code",
   "execution_count": 342,
   "metadata": {},
   "outputs": [],
   "source": [
    "alphas = kernel_perceptron(train70, trainlabels70, 10, 5000)"
   ]
  },
  {
   "cell_type": "code",
   "execution_count": 343,
   "metadata": {},
   "outputs": [],
   "source": [
    "subm12 = kernel_predictall(train70, trainlabels70, alphas, perc_testdata_hog, 10)"
   ]
  },
  {
   "cell_type": "code",
   "execution_count": 344,
   "metadata": {},
   "outputs": [],
   "source": [
    "makesubmission(12, subm12)"
   ]
  },
  {
   "cell_type": "markdown",
   "metadata": {},
   "source": [
    "## Report Analysis"
   ]
  },
  {
   "cell_type": "code",
   "execution_count": 354,
   "metadata": {},
   "outputs": [
    {
     "data": {
      "image/png": "[encoded data removed]",
      "text/plain": [
       "<Figure size 432x288 with 1 Axes>"
      ]
     },
     "metadata": {
      "needs_background": "light"
     },
     "output_type": "display_data"
    }
   ],
   "source": [
    "fig, ax = plt.subplots(1,1)\n",
    "ax.imshow(traindata[1], cmap='gray')\n",
    "fig.savefig('Read1')"
   ]
  },
  {
   "cell_type": "code",
   "execution_count": 356,
   "metadata": {},
   "outputs": [
    {
     "data": {
      "text/plain": [
       "(498, 918)"
      ]
     },
     "execution_count": 356,
     "metadata": {},
     "output_type": "execute_result"
    }
   ],
   "source": [
    "raw_traindata[1].shape"
   ]
  },
  {
   "cell_type": "code",
   "execution_count": 357,
   "metadata": {},
   "outputs": [
    {
     "data": {
      "text/plain": [
       "<matplotlib.image.AxesImage at 0x2b4c4052308>"
      ]
     },
     "execution_count": 357,
     "metadata": {},
     "output_type": "execute_result"
    },
    {
     "data": {
      "image/png": "[encoded data removed]",
      "text/plain": [
       "<Figure size 432x288 with 1 Axes>"
      ]
     },
     "metadata": {
      "needs_background": "light"
     },
     "output_type": "display_data"
    }
   ],
   "source": [
    "fig, ax = plt.subplots(1,1)\n",
    "ax.imshow(traindata[12], cmap='gray')\n",
    "#fig.savefig('Read1')"
   ]
  },
  {
   "cell_type": "code",
   "execution_count": 370,
   "metadata": {},
   "outputs": [],
   "source": [
    "train70, test30 = split(perc_traindata, 0.7)\n",
    "trainlabels70, testlabels30 = split(train_labels, 0.7)"
   ]
  },
  {
   "cell_type": "code",
   "execution_count": 384,
   "metadata": {},
   "outputs": [],
   "source": [
    "iters = [1000, 1500, 2000, 2500, 3000, 3500, 4000, 4500, 5000]\n",
    "perc_accs = []\n",
    "for i in range(len(iters)):\n",
    "    it = iters[i]\n",
    "    weights = uw_perceptron(train70, trainlabels70, it)\n",
    "    res = predictall(weights, test30)\n",
    "    perc_accs.append(uw_accuracy(res, testlabels30))"
   ]
  },
  {
   "cell_type": "code",
   "execution_count": 385,
   "metadata": {},
   "outputs": [
    {
     "data": {
      "image/png": "[encoded data removed]",
      "text/plain": [
       "<Figure size 720x360 with 1 Axes>"
      ]
     },
     "metadata": {
      "needs_background": "light"
     },
     "output_type": "display_data"
    }
   ],
   "source": [
    "plt.plot(iters, perc_accs, color = 'purple', label = 'Linear Perceptron')\n",
    "plt.scatter(iters, perc_accs, color = 'purple', label = 'Linear Perceptron')\n",
    "plt.xlabel('Iterations')\n",
    "plt.ylabel('Accuracy')\n",
    "plt.savefig('Perc_Acc', dpi = 200)"
   ]
  },
  {
   "cell_type": "code",
   "execution_count": 419,
   "metadata": {},
   "outputs": [],
   "source": [
    "weights = uw_perceptron(train70, trainlabels70, 3500)\n",
    "res = predictall(weights, test30)"
   ]
  },
  {
   "cell_type": "code",
   "execution_count": 420,
   "metadata": {},
   "outputs": [],
   "source": [
    "labs = np.zeros(4)\n",
    "for key in res:\n",
    "    labs[res[key]] += 1\n",
    "    \n",
    "true_labs = np.zeros(4)\n",
    "for key in res:\n",
    "    true_labs[testlabels30[key]] += 1"
   ]
  },
  {
   "cell_type": "code",
   "execution_count": 421,
   "metadata": {},
   "outputs": [
    {
     "data": {
      "image/png": "[encoded data removed]",
      "text/plain": [
       "<Figure size 720x360 with 1 Axes>"
      ]
     },
     "metadata": {
      "needs_background": "light"
     },
     "output_type": "display_data"
    }
   ],
   "source": [
    "plt.bar(['normal', 'covid', 'viral', 'bacterial'], labs, color='maroon')\n",
    "plt.savefig('perc_labs', dpi=200)"
   ]
  },
  {
   "cell_type": "code",
   "execution_count": 414,
   "metadata": {},
   "outputs": [
    {
     "data": {
      "image/png": "[encoded data removed]",
      "text/plain": [
       "<Figure size 720x360 with 1 Axes>"
      ]
     },
     "metadata": {
      "needs_background": "light"
     },
     "output_type": "display_data"
    }
   ],
   "source": [
    "plt.bar(['normal', 'covid', 'viral', 'bacterial'], true_labs, color='green')\n",
    "plt.savefig('true_labs', dpi=200)"
   ]
  },
  {
   "cell_type": "code",
   "execution_count": 422,
   "metadata": {},
   "outputs": [],
   "source": [
    "weights = uw_perceptron(train70, trainlabels70, 5000)\n",
    "res = predictall(weights, test30)"
   ]
  },
  {
   "cell_type": "code",
   "execution_count": 423,
   "metadata": {},
   "outputs": [],
   "source": [
    "labs = np.zeros(4)\n",
    "for key in res:\n",
    "    labs[res[key]] += 1\n",
    "    \n",
    "true_labs = np.zeros(4)\n",
    "for key in res:\n",
    "    true_labs[testlabels30[key]] += 1"
   ]
  },
  {
   "cell_type": "code",
   "execution_count": 424,
   "metadata": {},
   "outputs": [
    {
     "data": {
      "image/png": "[encoded data removed]",
      "text/plain": [
       "<Figure size 720x360 with 1 Axes>"
      ]
     },
     "metadata": {
      "needs_background": "light"
     },
     "output_type": "display_data"
    }
   ],
   "source": [
    "plt.bar(['normal', 'covid', 'viral', 'bacterial'], labs, color='maroon')\n",
    "plt.savefig('perc_labs2', dpi=200)"
   ]
  },
  {
   "cell_type": "code",
   "execution_count": 72,
   "metadata": {},
   "outputs": [
    {
     "data": {
      "image/png": "[encoded data removed]",
      "text/plain": [
       "<Figure size 720x360 with 1 Axes>"
      ]
     },
     "metadata": {
      "needs_background": "light"
     },
     "output_type": "display_data"
    }
   ],
   "source": [
    "plt.imshow(traindata[0], cmap='gray')\n",
    "plt.tight_layout()\n",
    "plt.savefig('Img0.pdf', dpi=200)"
   ]
  },
  {
   "cell_type": "code",
   "execution_count": 73,
   "metadata": {},
   "outputs": [
    {
     "data": {
      "image/png": "[encoded data removed]",
      "text/plain": [
       "<Figure size 720x360 with 1 Axes>"
      ]
     },
     "metadata": {
      "needs_background": "light"
     },
     "output_type": "display_data"
    }
   ],
   "source": [
    "plt.imshow(train_hogs3[0], cmap='gray')\n",
    "plt.tight_layout()\n",
    "plt.savefig('Img0_hog.pdf', dpi=200)"
   ]
  },
  {
   "cell_type": "markdown",
   "metadata": {},
   "source": [
    "#### Error Analysis"
   ]
  },
  {
   "cell_type": "code",
   "execution_count": 120,
   "metadata": {},
   "outputs": [],
   "source": [
    " X_train, X_test, y_train, y_test = train_test_split(traindata_hog3, train_labels, random_state = 0, test_size = 0.3)\n",
    "svclassifier = SVC(kernel='poly', degree=10, gamma='scale')\n",
    "model = svclassifier.fit(X_train, y_train)"
   ]
  },
  {
   "cell_type": "code",
   "execution_count": 143,
   "metadata": {},
   "outputs": [],
   "source": [
    "predic = model.predict(X_test)\n",
    "acc = accuracy_score(y_test, predic)\n",
    "cm = confusion_matrix(y_test, predic)\n",
    "prec = precision_score(y_test, predic, average = 'macro')\n",
    "recall = recall_score(y_test, predic, average = 'macro')\n",
    "f1 = f1_score(y_test, predic, average = 'macro')"
   ]
  },
  {
   "cell_type": "code",
   "execution_count": 137,
   "metadata": {
    "scrolled": true
   },
   "outputs": [
    {
     "data": {
      "text/plain": [
       "array([[100,   2,   7,   1],\n",
       "       [  0,  17,   7,   5],\n",
       "       [ 13,   0,  59,  36],\n",
       "       [  9,   1,  32,  50]], dtype=int64)"
      ]
     },
     "execution_count": 137,
     "metadata": {},
     "output_type": "execute_result"
    }
   ],
   "source": [
    "cm"
   ]
  },
  {
   "cell_type": "code",
   "execution_count": 157,
   "metadata": {},
   "outputs": [
    {
     "data": {
      "image/png": "[encoded data removed]",
      "text/plain": [
       "<Figure size 720x360 with 1 Axes>"
      ]
     },
     "metadata": {
      "needs_background": "light"
     },
     "output_type": "display_data"
    }
   ],
   "source": [
    "plt.imshow(cm)\n",
    "for i in range(4):\n",
    "        for j in range(4):\n",
    "            plt.text(j, i, '%d' %cm[i][j], horizontalalignment='center', verticalalignment='center', color='white',\n",
    "                           fontsize = 20)\n",
    "            \n",
    "plt.savefig('CM', dpi=200)"
   ]
  },
  {
   "cell_type": "code",
   "execution_count": 162,
   "metadata": {},
   "outputs": [
    {
     "data": {
      "text/plain": [
       "(0.6666666666666666, 0.693763788480467, 0.6462680907021237, 0.6633538469339633)"
      ]
     },
     "execution_count": 162,
     "metadata": {},
     "output_type": "execute_result"
    }
   ],
   "source": [
    "acc, prec, recall, f1"
   ]
  },
  {
   "cell_type": "code",
   "execution_count": null,
   "metadata": {},
   "outputs": [],
   "source": []
  }
 ],
 "metadata": {
  "kernelspec": {
   "display_name": "Python 3",
   "language": "python",
   "name": "python3"
  },
  "language_info": {
   "codemirror_mode": {
    "name": "ipython",
    "version": 3
   },
   "file_extension": ".py",
   "mimetype": "text/x-python",
   "name": "python",
   "nbconvert_exporter": "python",
   "pygments_lexer": "ipython3",
   "version": "3.7.6"
  }
 },
 "nbformat": 4,
 "nbformat_minor": 2
}
